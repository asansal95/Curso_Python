{
 "cells": [
  {
   "cell_type": "markdown",
   "id": "90411088",
   "metadata": {},
   "source": [
    "#Ejercicio 2: Functions\n",
    "##Crear función compuesta que evalúe el valor absoluto de un número"
   ]
  },
  {
   "cell_type": "code",
   "execution_count": 5,
   "id": "cc8740fc",
   "metadata": {},
   "outputs": [],
   "source": [
    "def valor_absoluto(x) :\n",
    "    if x >= 0:\n",
    "        return x\n",
    "    else:\n",
    "        return -x   "
   ]
  },
  {
   "cell_type": "code",
   "execution_count": 6,
   "id": "04323856",
   "metadata": {},
   "outputs": [
    {
     "name": "stdout",
     "output_type": "stream",
     "text": [
      "45\n"
     ]
    }
   ],
   "source": [
    "print(valor_absoluto(45))"
   ]
  },
  {
   "cell_type": "code",
   "execution_count": 7,
   "id": "635c43e2",
   "metadata": {},
   "outputs": [
    {
     "name": "stdout",
     "output_type": "stream",
     "text": [
      "33\n"
     ]
    }
   ],
   "source": [
    "print(valor_absoluto(-33))"
   ]
  },
  {
   "cell_type": "code",
   "execution_count": 8,
   "id": "6270ed54",
   "metadata": {},
   "outputs": [
    {
     "name": "stdout",
     "output_type": "stream",
     "text": [
      "15\n"
     ]
    }
   ],
   "source": [
    "a = 18\n",
    "b = 33\n",
    "c = a - b\n",
    "print(valor_absoluto(c))"
   ]
  }
 ],
 "metadata": {
  "kernelspec": {
   "display_name": "base",
   "language": "python",
   "name": "python3"
  },
  "language_info": {
   "codemirror_mode": {
    "name": "ipython",
    "version": 3
   },
   "file_extension": ".py",
   "mimetype": "text/x-python",
   "name": "python",
   "nbconvert_exporter": "python",
   "pygments_lexer": "ipython3",
   "version": "3.13.5"
  }
 },
 "nbformat": 4,
 "nbformat_minor": 5
}
