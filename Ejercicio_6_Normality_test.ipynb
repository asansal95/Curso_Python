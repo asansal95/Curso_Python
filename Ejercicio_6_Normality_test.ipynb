{
 "cells": [
  {
   "cell_type": "markdown",
   "id": "a22d5300",
   "metadata": {},
   "source": [
    "# Ejercicio 6: Normality Test"
   ]
  },
  {
   "cell_type": "code",
   "execution_count": 1,
   "id": "79428037",
   "metadata": {},
   "outputs": [],
   "source": [
    "def import_csv(file):\n",
    "    import pandas as pd\n",
    "    return pd.read_csv(file)"
   ]
  },
  {
   "cell_type": "code",
   "execution_count": 2,
   "id": "72bf734a",
   "metadata": {},
   "outputs": [
    {
     "name": "stdout",
     "output_type": "stream",
     "text": [
      "   sample      date     estuary   area station layer_depth season  \\\n",
      "0  CDL01S  5/3/2020  Candelaria  River   CDL01     Surface    Dry   \n",
      "1  CDL01F  5/3/2020  Candelaria  River   CDL01      Bottom    Dry   \n",
      "2  CDL02S  5/3/2020  Candelaria  River   CDL02     Surface    Dry   \n",
      "3  CDL02F  5/3/2020  Candelaria  River   CDL02      Bottom    Dry   \n",
      "4  CDL03S  5/3/2020  Candelaria  River   CDL03     Surface    Dry   \n",
      "\n",
      "   chlorophy_microg_l  cond_microsiemens_cm  depth_m  ...  do_mg_l  sal_psu  \\\n",
      "0                0.36                7015.4    0.464  ...     7.12     3.56   \n",
      "1                4.19               29886.1    7.792  ...     4.90    16.97   \n",
      "2                0.92               16691.1    0.453  ...     6.99     8.94   \n",
      "3                2.23               24847.4    1.261  ...     6.52    13.87   \n",
      "4                0.58               46341.6    0.465  ...     6.24    28.06   \n",
      "\n",
      "   sp_cond_microsiemens_cm  turbidity_fnu  temp_c  latitude  longitude  \\\n",
      "0                   6547.7           1.47  28.740  18.55736  -91.25012   \n",
      "1                  27751.2          95.33  29.028  18.55722  -91.24990   \n",
      "2                  15429.1           5.50  29.283  18.61007  -91.24410   \n",
      "3                  23074.0          13.44  29.024  18.61005  -91.24403   \n",
      "4                  43670.8           3.60  28.202  18.63166  -91.29359   \n",
      "\n",
      "   dic_micromol_kg  ta_micromol_kg  dummy_data  \n",
      "0             3915            3863      3685.0  \n",
      "1             3698            3685         NaN  \n",
      "2             3724            3708      3708.0  \n",
      "3             3667            3992      3992.0  \n",
      "4             2928            3023      3023.0  \n",
      "\n",
      "[5 rows x 21 columns]\n"
     ]
    }
   ],
   "source": [
    "path = \"../Datos/Terminos_lagoon_TA_DIC_2023_RawData.csv\"\n",
    "\n",
    "CO2Data = import_csv(path)\n",
    "\n",
    "print(CO2Data.head())"
   ]
  },
  {
   "cell_type": "markdown",
   "id": "21bb928d",
   "metadata": {},
   "source": [
    "##### Prueba Shapiro-Wilk"
   ]
  },
  {
   "cell_type": "code",
   "execution_count": 5,
   "id": "a2642e30",
   "metadata": {},
   "outputs": [
    {
     "name": "stdout",
     "output_type": "stream",
     "text": [
      "Statistic= 0.87971, p-value= 0.00000\n",
      "The data is not normally distributed (reject H₀).\n"
     ]
    }
   ],
   "source": [
    "from scipy.stats import shapiro \n",
    "\n",
    "#perform Shapiro-Wilk test for normality\n",
    "\n",
    "TA = CO2Data['ta_micromol_kg']\n",
    "\n",
    "shapiro_results = shapiro(TA)\n",
    "\n",
    "\n",
    "print(f'Statistic= {stat:.5f}, p-value= {p:.5f}')\n",
    "\n",
    "if shapiro_results.pvalue < 0.05:\n",
    "    print(\"The data is not normally distributed (reject H₀).\")\n",
    "\n",
    "else:\n",
    "    print(\"The data is normally distributed (fail to reject H₀).\")"
   ]
  },
  {
   "cell_type": "code",
   "execution_count": 6,
   "id": "f04764ac",
   "metadata": {},
   "outputs": [
    {
     "name": "stdout",
     "output_type": "stream",
     "text": [
      "ShapiroResult(statistic=np.float64(0.8797113785286559), pvalue=np.float64(9.071435657097518e-08))\n"
     ]
    }
   ],
   "source": [
    "print(shapiro_results)"
   ]
  },
  {
   "cell_type": "markdown",
   "id": "26324ce5",
   "metadata": {},
   "source": [
    "## Ejercicio A. Uso de pruebas Kolmogorov-Smirnov vs Shapiro-Wilk"
   ]
  },
  {
   "cell_type": "markdown",
   "id": "ee4a9451",
   "metadata": {},
   "source": [
    "##### Así como la prueba Shapiro-Wilk, la prueba Kolmogorov-Smirnov se utiliza con el objetivo de evaluar la normalidad de los datos, sin embargo, es preferible utilizar la primera (S-W) cuando el tamaño de muestra es pequeño (n<50), mientras que la segunda (K-S) se aplica a tamaños de muestra más grandes (n>50)."
   ]
  },
  {
   "cell_type": "markdown",
   "id": "d6258e36",
   "metadata": {},
   "source": [
    "## Ejercicio B. Prueba de normalidad a DIC y salinidad."
   ]
  },
  {
   "cell_type": "markdown",
   "id": "a3b39016",
   "metadata": {},
   "source": [
    "##### Para seleccionar la prueba a aplicar, primero determinaremos el tamaño de la muestra."
   ]
  },
  {
   "cell_type": "code",
   "execution_count": 11,
   "id": "1de4a8dc",
   "metadata": {},
   "outputs": [],
   "source": [
    "# Importar archivo \n",
    "\n",
    "def import_csv(file):\n",
    "    import pandas as pd\n",
    "    return pd.read_csv(file)\n",
    "\n",
    "path = \"../Datos/Terminos_lagoon_TA_DIC_2023_RawData.csv\"\n",
    "\n",
    "data_frame = import_csv(path)\n"
   ]
  },
  {
   "cell_type": "code",
   "execution_count": 12,
   "id": "1dd1dd23",
   "metadata": {},
   "outputs": [
    {
     "name": "stdout",
     "output_type": "stream",
     "text": [
      "Tamaño de muestra: 106\n"
     ]
    }
   ],
   "source": [
    "# Determinar tamaño de muestra\n",
    "\n",
    "n = data_frame.shape[0]\n",
    "print(\"Tamaño de muestra:\", n)"
   ]
  },
  {
   "cell_type": "markdown",
   "id": "533a2b09",
   "metadata": {},
   "source": [
    "##### Ya que el tamño de muestra es mayor a 50, se aplicará la prueba Kolmogorov-Smirnov."
   ]
  },
  {
   "cell_type": "code",
   "execution_count": null,
   "id": "d4ccc299",
   "metadata": {},
   "outputs": [
    {
     "name": "stdout",
     "output_type": "stream",
     "text": [
      "\n",
      "Variable: DIC\n",
      "Statistics KS: 0.1825, p-value: 0.0015\n",
      "Los datos RECHAZAN la hipótesis de normalidad (no siguen distribución normal).\n",
      "\n",
      "Variable: salinidad\n",
      "Statistics KS: 0.1516, p-value: 0.0137\n",
      "Los datos RECHAZAN la hipótesis de normalidad (no siguen distribución normal).\n"
     ]
    }
   ],
   "source": [
    "import numpy as np\n",
    "from scipy.stats import kstest, norm\n",
    "\n",
    "\n",
    "# Función para prueba de normalidad Kolmogorov-Smirnov\n",
    "def prueba_normalidad_ks(datos, variable):\n",
    "\n",
    "    # Eliminar valores nulos\n",
    "    datos = datos.dropna()\n",
    "\n",
    "    # Estandarizar los datos\n",
    "    datos_std = (datos - np.mean(datos)) / np.std(datos, ddof=0)\n",
    "\n",
    "    # Aplicar la prueba KS contra la normal estándar\n",
    "    estadistico, pvalor = kstest(datos_std, 'norm')\n",
    "\n",
    "    print(f\"\\nVariable: {variable}\")\n",
    "    print(f\"Statistics KS: {estadistico:.4f}, p-value: {pvalor:.4f}\")\n",
    "\n",
    "    if pvalor > 0.05:\n",
    "        print(\"Los datos NO rechazan la hipótesis de normalidad (se pueden considerar normales).\")\n",
    "    else:\n",
    "        print(\"Los datos RECHAZAN la hipótesis de normalidad (no siguen distribución normal).\")\n",
    "\n",
    "# Aplicar a DIC y salinidad\n",
    "prueba_normalidad_ks(data_frame[\"dic_micromol_kg\"], \"DIC\")\n",
    "prueba_normalidad_ks(data_frame[\"sal_psu\"], \"salinidad\")\n"
   ]
  },
  {
   "cell_type": "code",
   "execution_count": null,
   "id": "17e3a62c",
   "metadata": {},
   "outputs": [],
   "source": []
  }
 ],
 "metadata": {
  "kernelspec": {
   "display_name": "base",
   "language": "python",
   "name": "python3"
  },
  "language_info": {
   "codemirror_mode": {
    "name": "ipython",
    "version": 3
   },
   "file_extension": ".py",
   "mimetype": "text/x-python",
   "name": "python",
   "nbconvert_exporter": "python",
   "pygments_lexer": "ipython3",
   "version": "3.13.5"
  }
 },
 "nbformat": 4,
 "nbformat_minor": 5
}
