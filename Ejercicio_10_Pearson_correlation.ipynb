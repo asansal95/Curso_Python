{
 "cells": [
  {
   "cell_type": "markdown",
   "id": "3fbc1d4c",
   "metadata": {},
   "source": [
    "# Ejercicio 10: Pearson Correlation"
   ]
  },
  {
   "cell_type": "code",
   "execution_count": null,
   "id": "c9c04747",
   "metadata": {},
   "outputs": [],
   "source": [
    "#Importar datos\n",
    "\n",
    "def import_csv(file):\n",
    "    import pandas as pd\n",
    "    return pd.read_csv(file)"
   ]
  },
  {
   "cell_type": "code",
   "execution_count": 4,
   "id": "3ed2456b",
   "metadata": {},
   "outputs": [],
   "source": [
    "path = \"../Datos/Terminos_lagoon_TA_DIC_2023_RawData.csv\"\n",
    "\n",
    "data_frame = import_csv(path)"
   ]
  },
  {
   "cell_type": "code",
   "execution_count": 6,
   "id": "336bffa1",
   "metadata": {},
   "outputs": [
    {
     "name": "stdout",
     "output_type": "stream",
     "text": [
      "Coeficiente de correlación de Pearson: 0.8823\n",
      "Valor p: 8.1794e-36\n",
      "La correlación es estadísticamente significativa (p < 0.05).\n"
     ]
    }
   ],
   "source": [
    "#Correlación de Pearson con scipy.stats.pearsonr\n",
    "\n",
    "import pandas as pd\n",
    "from scipy.stats import pearsonr\n",
    "\n",
    "x = data_frame[\"ta_micromol_kg\"]\n",
    "y = data_frame[\"dic_micromol_kg\"]\n",
    "\n",
    "coef, p_value = pearsonr(x, y)\n",
    "\n",
    "print(f\"Coeficiente de correlación de Pearson: {coef:.4f}\")\n",
    "print(f\"Valor p: {p_value:.4e}\")\n",
    "\n",
    "if p_value < 0.05:\n",
    "    print(\"La correlación es estadísticamente significativa (p < 0.05).\")\n",
    "else:\n",
    "    print(\"La correlación no es estadísticamente significativa (p >= 0.05).\")"
   ]
  },
  {
   "cell_type": "code",
   "execution_count": null,
   "id": "70522681",
   "metadata": {},
   "outputs": [],
   "source": []
  }
 ],
 "metadata": {
  "kernelspec": {
   "display_name": "base",
   "language": "python",
   "name": "python3"
  },
  "language_info": {
   "codemirror_mode": {
    "name": "ipython",
    "version": 3
   },
   "file_extension": ".py",
   "mimetype": "text/x-python",
   "name": "python",
   "nbconvert_exporter": "python",
   "pygments_lexer": "ipython3",
   "version": "3.13.5"
  }
 },
 "nbformat": 4,
 "nbformat_minor": 5
}
