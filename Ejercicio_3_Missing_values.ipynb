{
 "cells": [
  {
   "cell_type": "markdown",
   "id": "dc2774bf",
   "metadata": {},
   "source": [
    "#Ejercicio 3: Missing_values\n",
    "##Importar archivo csv como dataframe"
   ]
  },
  {
   "cell_type": "code",
   "execution_count": 1,
   "id": "d0596e4d",
   "metadata": {},
   "outputs": [],
   "source": [
    "def import_csv(file):\n",
    "    import pandas as pd\n",
    "    return pd.read_csv(file)"
   ]
  },
  {
   "cell_type": "code",
   "execution_count": 3,
   "id": "a90cd4c5",
   "metadata": {},
   "outputs": [],
   "source": [
    "path = \"../Datos/Terminos_lagoon_TA_DIC_2023_RawData.csv\"\n",
    "\n",
    "data = import_csv(path)"
   ]
  },
  {
   "cell_type": "code",
   "execution_count": 8,
   "id": "16a429df",
   "metadata": {},
   "outputs": [
    {
     "name": "stdout",
     "output_type": "stream",
     "text": [
      "   sample      date     estuary   area station layer_depth season  \\\n",
      "0  CDL01S  5/3/2020  Candelaria  River   CDL01     Surface    Dry   \n",
      "1  CDL01F  5/3/2020  Candelaria  River   CDL01      Bottom    Dry   \n",
      "2  CDL02S  5/3/2020  Candelaria  River   CDL02     Surface    Dry   \n",
      "3  CDL02F  5/3/2020  Candelaria  River   CDL02      Bottom    Dry   \n",
      "4  CDL03S  5/3/2020  Candelaria  River   CDL03     Surface    Dry   \n",
      "\n",
      "   chlorophy_microg_l  cond_microsiemens_cm  depth_m  ...  do_mg_l  sal_psu  \\\n",
      "0                0.36                7015.4    0.464  ...     7.12     3.56   \n",
      "1                4.19               29886.1    7.792  ...     4.90    16.97   \n",
      "2                0.92               16691.1    0.453  ...     6.99     8.94   \n",
      "3                2.23               24847.4    1.261  ...     6.52    13.87   \n",
      "4                0.58               46341.6    0.465  ...     6.24    28.06   \n",
      "\n",
      "   sp_cond_microsiemens_cm  turbidity_fnu  temp_c  latitude  longitude  \\\n",
      "0                   6547.7           1.47  28.740  18.55736  -91.25012   \n",
      "1                  27751.2          95.33  29.028  18.55722  -91.24990   \n",
      "2                  15429.1           5.50  29.283  18.61007  -91.24410   \n",
      "3                  23074.0          13.44  29.024  18.61005  -91.24403   \n",
      "4                  43670.8           3.60  28.202  18.63166  -91.29359   \n",
      "\n",
      "   dic_micromol_kg  ta_micromol_kg  dummy_data  \n",
      "0             3915            3863      3685.0  \n",
      "1             3698            3685         NaN  \n",
      "2             3724            3708      3708.0  \n",
      "3             3667            3992      3992.0  \n",
      "4             2928            3023      3023.0  \n",
      "\n",
      "[5 rows x 21 columns]\n"
     ]
    }
   ],
   "source": [
    "print(data.head())"
   ]
  },
  {
   "cell_type": "markdown",
   "id": "2e6489f1",
   "metadata": {},
   "source": [
    "##1.Crear nueva columna llamada \"TA_DIC_ratio\""
   ]
  },
  {
   "cell_type": "code",
   "execution_count": 33,
   "id": "ba09d14c",
   "metadata": {},
   "outputs": [],
   "source": [
    "data['TA_DIC_ratio'] = data['ta_micromol_kg']/data['dic_micromol_kg']\n"
   ]
  },
  {
   "cell_type": "code",
   "execution_count": 13,
   "id": "80888f05",
   "metadata": {},
   "outputs": [
    {
     "name": "stdout",
     "output_type": "stream",
     "text": [
      "<bound method NDFrame.head of      sample       date     estuary   area station layer_depth season  \\\n",
      "0    CDL01S   5/3/2020  Candelaria  River   CDL01     Surface    Dry   \n",
      "1    CDL01F   5/3/2020  Candelaria  River   CDL01      Bottom    Dry   \n",
      "2    CDL02S   5/3/2020  Candelaria  River   CDL02     Surface    Dry   \n",
      "3    CDL02F   5/3/2020  Candelaria  River   CDL02      Bottom    Dry   \n",
      "4    CDL03S   5/3/2020  Candelaria  River   CDL03     Surface    Dry   \n",
      "..      ...        ...         ...    ...     ...         ...    ...   \n",
      "101  PLZ07F  10/2/2021    Palizada  Coast   PLZ07      Bottom    Dry   \n",
      "102  PLZ08S  10/2/2021    Palizada  Coast   PLZ08     Surface    Dry   \n",
      "103  PLZ08F  10/2/2021    Palizada  Coast   PLZ08      Bottom    Dry   \n",
      "104  PLZ09S  10/2/2021    Palizada  Coast   PLZ09     Surface    Dry   \n",
      "105  PLZ09F  10/2/2021    Palizada  Coast   PLZ09      Bottom    Dry   \n",
      "\n",
      "     chlorophy_microg_l  cond_microsiemens_cm  depth_m  ...  sal_psu  \\\n",
      "0                  0.36                7015.4    0.464  ...     3.56   \n",
      "1                  4.19               29886.1    7.792  ...    16.97   \n",
      "2                  0.92               16691.1    0.453  ...     8.94   \n",
      "3                  2.23               24847.4    1.261  ...    13.87   \n",
      "4                  0.58               46341.6    0.465  ...    28.06   \n",
      "..                  ...                   ...      ...  ...      ...   \n",
      "101                8.37               36889.2    2.829  ...    22.81   \n",
      "102                2.73               37133.6    0.363  ...    22.57   \n",
      "103                9.27               39340.8    5.185  ...    24.53   \n",
      "104                3.71               37034.5    0.384  ...    22.57   \n",
      "105               17.81               43416.8    4.069  ...    27.52   \n",
      "\n",
      "     sp_cond_microsiemens_cm  turbidity_fnu  temp_c  latitude  longitude  \\\n",
      "0                     6547.7           1.47  28.740  18.55736  -91.25012   \n",
      "1                    27751.2          95.33  29.028  18.55722  -91.24990   \n",
      "2                    15429.1           5.50  29.283  18.61007  -91.24410   \n",
      "3                    23074.0          13.44  29.024  18.61005  -91.24403   \n",
      "4                    43670.8           3.60  28.202  18.63166  -91.29359   \n",
      "..                       ...            ...     ...       ...        ...   \n",
      "101                  36170.8          56.65  26.040  18.58745  -91.83044   \n",
      "102                  35851.5           5.90  26.872  18.64028  -91.86907   \n",
      "103                  38622.9         173.00  25.973  18.63984  -91.86890   \n",
      "104                  35851.9           9.18  26.727  18.66676  -91.90047   \n",
      "105                  42833.8         890.51  25.713  18.66452  -91.90119   \n",
      "\n",
      "     dic_micromol_kg  ta_micromol_kg  dummy_data  TA_DIC_ratio  \n",
      "0               3915            3863      3685.0      0.986718  \n",
      "1               3698            3685         NaN      0.996485  \n",
      "2               3724            3708      3708.0      0.995704  \n",
      "3               3667            3992      3992.0      1.088628  \n",
      "4               2928            3023      3023.0      1.032445  \n",
      "..               ...             ...         ...           ...  \n",
      "101             2715            2851      2851.0      1.050092  \n",
      "102             2638            2837      2837.0      1.075436  \n",
      "103             2608            2857      2857.0      1.095475  \n",
      "104             2605            2804      2804.0      1.076392  \n",
      "105             2542            2780      2780.0      1.093627  \n",
      "\n",
      "[106 rows x 22 columns]>\n"
     ]
    }
   ],
   "source": [
    "print(data.head)"
   ]
  },
  {
   "cell_type": "markdown",
   "id": "457e558a",
   "metadata": {},
   "source": [
    "##2.Calcular desviación estándar y media de TA_DIC_ratio por temporada "
   ]
  },
  {
   "cell_type": "code",
   "execution_count": 34,
   "id": "54bd7816",
   "metadata": {},
   "outputs": [
    {
     "name": "stdout",
     "output_type": "stream",
     "text": [
      "            mean       std\n",
      "season                    \n",
      "Dry     1.058558  0.086111\n",
      "Rainy   1.022350  0.100924\n"
     ]
    }
   ],
   "source": [
    "std_mean_season = data.groupby(\"season\")[\"TA_DIC_ratio\"].agg(\n",
    "    mean=\"mean\",\n",
    "    std=\"std\"\n",
    ")\n",
    "\n",
    "print(std_mean_season)"
   ]
  },
  {
   "cell_type": "markdown",
   "id": "a48be377",
   "metadata": {},
   "source": [
    "##3.Calcular desviación estándar y media de TA_DIC_ratio por temporada y área"
   ]
  },
  {
   "cell_type": "code",
   "execution_count": 36,
   "id": "a99a18b4",
   "metadata": {},
   "outputs": [
    {
     "name": "stdout",
     "output_type": "stream",
     "text": [
      "                  mean       std\n",
      "season area                     \n",
      "Dry    Coast  1.115766  0.115033\n",
      "       Plume  1.059687  0.035574\n",
      "       River  1.000221  0.037747\n",
      "Rainy  Coast  1.090127  0.129658\n",
      "       Plume  1.025544  0.049222\n",
      "       River  0.945217  0.025084\n"
     ]
    }
   ],
   "source": [
    "std_mean_season_area = data.groupby([\"season\", \"area\"])[\"TA_DIC_ratio\"].agg(\n",
    "    mean=\"mean\",\n",
    "    std=\"std\"\n",
    ")\n",
    "\n",
    "print(std_mean_season_area)"
   ]
  },
  {
   "cell_type": "markdown",
   "id": "81d4c6f3",
   "metadata": {},
   "source": [
    "##4.Guardar resultados como archivo de Excel "
   ]
  },
  {
   "cell_type": "code",
   "execution_count": 37,
   "id": "9e2f453a",
   "metadata": {},
   "outputs": [],
   "source": [
    "data.to_excel(\"TA_DIC_Season_Areas.xlsx\", index=False)"
   ]
  }
 ],
 "metadata": {
  "kernelspec": {
   "display_name": "base",
   "language": "python",
   "name": "python3"
  },
  "language_info": {
   "codemirror_mode": {
    "name": "ipython",
    "version": 3
   },
   "file_extension": ".py",
   "mimetype": "text/x-python",
   "name": "python",
   "nbconvert_exporter": "python",
   "pygments_lexer": "ipython3",
   "version": "3.13.5"
  }
 },
 "nbformat": 4,
 "nbformat_minor": 5
}
